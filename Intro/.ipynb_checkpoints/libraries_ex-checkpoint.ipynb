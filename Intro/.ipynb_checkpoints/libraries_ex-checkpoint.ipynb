{
 "cells": [
  {
   "cell_type": "code",
   "execution_count": 1,
   "id": "c71bdc89-bcd5-4792-876c-8066b3f19c4f",
   "metadata": {},
   "outputs": [
    {
     "name": "stdout",
     "output_type": "stream",
     "text": [
      "Hello World\n"
     ]
    }
   ],
   "source": [
    "print(\"Hello World\")"
   ]
  },
  {
   "cell_type": "code",
   "execution_count": 6,
   "id": "6ad99d0b-c3aa-47f9-9f7d-dc668a399d2f",
   "metadata": {},
   "outputs": [
    {
     "name": "stdout",
     "output_type": "stream",
     "text": [
      "x:\n",
      "[[1 2 3]\n",
      " [4 5 6]]\n"
     ]
    }
   ],
   "source": [
    "import numpy as np\n",
    "x = np.array([[1,2,3],[4,5,6]])\n",
    "print(\"x:\\n{}\".format(x))"
   ]
  },
  {
   "cell_type": "code",
   "execution_count": 9,
   "id": "99a8f27c-fa97-41ae-af25-f7541972ebf8",
   "metadata": {},
   "outputs": [
    {
     "name": "stdout",
     "output_type": "stream",
     "text": [
      "NumPy array:\n",
      "[[1. 0. 0. 0.]\n",
      " [0. 1. 0. 0.]\n",
      " [0. 0. 1. 0.]\n",
      " [0. 0. 0. 1.]]\n"
     ]
    }
   ],
   "source": [
    "from scipy import sparse\n",
    "\n",
    "#Create a 2D Numpy array with a diagonal of ones, and zeros everywhere else\n",
    "\n",
    "eye = np.eye(4)\n",
    "print(\"NumPy array:\\n{}\".format(eye))"
   ]
  },
  {
   "cell_type": "code",
   "execution_count": 11,
   "id": "82b1b96a-7adf-4fda-ab4e-730aefe8b570",
   "metadata": {},
   "outputs": [
    {
     "name": "stdout",
     "output_type": "stream",
     "text": [
      "\n",
      "SciPy sparse CSR matrix:\n",
      "  (0, 0)\t1.0\n",
      "  (1, 1)\t1.0\n",
      "  (2, 2)\t1.0\n",
      "  (3, 3)\t1.0\n"
     ]
    }
   ],
   "source": [
    "#Convert the NumPy array to a SciPy sparse matrix in CSR format\n",
    "#Only the nonzero entries are stored\n",
    "\n",
    "sparse_matrix = sparse.csr_matrix(eye)\n",
    "print(\"\\nSciPy sparse CSR matrix:\\n{}\".format(sparse_matrix))"
   ]
  },
  {
   "cell_type": "code",
   "execution_count": 18,
   "id": "2a2d515d-fa4d-42af-aa13-5cbda3b62a70",
   "metadata": {},
   "outputs": [
    {
     "name": "stdout",
     "output_type": "stream",
     "text": [
      "COO representation:\n",
      "  (0, 0)\t1.0\n",
      "  (1, 1)\t1.0\n",
      "  (2, 2)\t1.0\n",
      "  (3, 3)\t1.0\n"
     ]
    }
   ],
   "source": [
    "data = np.ones(4)\n",
    "row_indices = np.arange(4)\n",
    "col_indices = np.arange(4)\n",
    "eye_coo = sparse.coo_matrix((data, (row_indices, col_indices)))\n",
    "print(\"COO representation:\\n{}\".format(eye_coo))"
   ]
  },
  {
   "cell_type": "code",
   "execution_count": 20,
   "id": "b4dce641-a4e5-4704-bea6-548153da7f79",
   "metadata": {},
   "outputs": [
    {
     "name": "stdout",
     "output_type": "stream",
     "text": [
      "Using matplotlib backend: GTK3Agg\n"
     ]
    },
    {
     "data": {
      "text/plain": [
       "[<matplotlib.lines.Line2D at 0x7fe030b01670>]"
      ]
     },
     "execution_count": 20,
     "metadata": {},
     "output_type": "execute_result"
    },
    {
     "name": "stderr",
     "output_type": "stream",
     "text": [
      "/home/igor/.local/lib/python3.8/site-packages/ipykernel/gui/gtk3embed.py:59: RuntimeWarning: coroutine 'Kernel.do_one_iteration' was never awaited\n",
      "  self.kernel.do_one_iteration()\n",
      "RuntimeWarning: Enable tracemalloc to get the object allocation traceback\n",
      "/home/igor/.local/lib/python3.8/site-packages/ipykernel/gui/gtk3embed.py:59: RuntimeWarning: coroutine 'Kernel.do_one_iteration' was never awaited\n",
      "  self.kernel.do_one_iteration()\n",
      "RuntimeWarning: Enable tracemalloc to get the object allocation traceback\n"
     ]
    }
   ],
   "source": [
    "%matplotlib\n",
    "\n",
    "import matplotlib.pyplot as plt\n",
    "\n",
    "#Generate a sequence of numbers from -10 do 10 with 100 steps in between\n",
    "x = np.linspace(-10,10,100)\n",
    "#Create a second array using sine\n",
    "y = np.sin(x)\n",
    "\n",
    "#The plot function makes a line chart of one array against another\n",
    "plt.plot(x,y,marker=\"x\")"
   ]
  },
  {
   "cell_type": "code",
   "execution_count": null,
   "id": "66d98757-2ace-48ab-82ca-c659ab629a7b",
   "metadata": {},
   "outputs": [],
   "source": [
    "import pandas as pd\n",
    "\n",
    "#create a simple dataset of people\n",
    "data = {\"Name\":[\"John\", \"Anna\", \"Peter\", \"Linda\"],\n",
    "       \"Location\":[\"New York\", \"Paris\", \"Berlin\", \"London\"],\n",
    "       \"Age\":[24,13,53,33]\n",
    "       }\n",
    "\n",
    "data_pandas = pd.DataFrame(data)\n",
    "#IPython.display allows \"Pretty printing\" of dataframes in Jupyter Notebook\n",
    "\n",
    "display(data_pandas)"
   ]
  },
  {
   "cell_type": "code",
   "execution_count": null,
   "id": "d481fca6-4a6b-4908-8639-42c62e204230",
   "metadata": {},
   "outputs": [],
   "source": []
  }
 ],
 "metadata": {
  "kernelspec": {
   "display_name": "Python 3 (ipykernel)",
   "language": "python",
   "name": "python3"
  },
  "language_info": {
   "codemirror_mode": {
    "name": "ipython",
    "version": 3
   },
   "file_extension": ".py",
   "mimetype": "text/x-python",
   "name": "python",
   "nbconvert_exporter": "python",
   "pygments_lexer": "ipython3",
   "version": "3.8.10"
  }
 },
 "nbformat": 4,
 "nbformat_minor": 5
}
