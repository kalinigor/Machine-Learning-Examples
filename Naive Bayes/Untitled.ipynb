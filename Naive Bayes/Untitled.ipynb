{
 "cells": [
  {
   "cell_type": "code",
   "execution_count": 6,
   "id": "4db6229c",
   "metadata": {},
   "outputs": [],
   "source": [
    "import numpy as np\n",
    "\n",
    "X = np.array([[0,1,0,1],\n",
    "             [1,0,1,1],\n",
    "            [0,0,0,1],\n",
    "            [1,0,1,0]])\n",
    "y = np.array([0,1,0,1])"
   ]
  },
  {
   "cell_type": "code",
   "execution_count": 7,
   "id": "18996635",
   "metadata": {},
   "outputs": [
    {
     "name": "stdout",
     "output_type": "stream",
     "text": [
      "Feature counts {0: array([0, 1, 0, 2]), 1: array([2, 0, 2, 1])}\n"
     ]
    }
   ],
   "source": [
    "#Counting non-zero entries:\n",
    "\n",
    "counts = {}\n",
    "\n",
    "for label in np.unique(y):\n",
    "    #iterate over each class\n",
    "    #count (sum) entries of 1 per feature\n",
    "    counts[label] = X[y==label].sum(axis=0)\n",
    "\n",
    "print(\"Feature counts\", counts)"
   ]
  },
  {
   "cell_type": "code",
   "execution_count": null,
   "id": "4028803c",
   "metadata": {},
   "outputs": [],
   "source": []
  }
 ],
 "metadata": {
  "kernelspec": {
   "display_name": "Python 3 (ipykernel)",
   "language": "python",
   "name": "python3"
  },
  "language_info": {
   "codemirror_mode": {
    "name": "ipython",
    "version": 3
   },
   "file_extension": ".py",
   "mimetype": "text/x-python",
   "name": "python",
   "nbconvert_exporter": "python",
   "pygments_lexer": "ipython3",
   "version": "3.8.10"
  }
 },
 "nbformat": 4,
 "nbformat_minor": 5
}
