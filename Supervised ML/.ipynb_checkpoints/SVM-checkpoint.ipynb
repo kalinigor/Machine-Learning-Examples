{
 "cells": [
  {
   "cell_type": "code",
   "execution_count": null,
   "metadata": {},
   "outputs": [],
   "source": [
    "import numpy as np\n",
    "\n",
    "def createClusteredData(N,k):\n",
    "    np.random.seed(1234)\n",
    "    pointsPerCluster = float(N)/k\n",
    "    X=[]\n",
    "    y=[]\n",
    "\n",
    "    for i in range(k):\n",
    "        incomeCentroid = np.random.uniform(20000.0, 200000)\n",
    "        ageCentroid = np.random.uniform(20.0, 70.0)\n",
    "\n",
    "        for j in range(int(pointsPerCluster)):\n",
    "            X.append([np.random.normal(incomeCentroid, 10000.0), np.random.normal(ageCentroid,2.0)])\n",
    "            y.append(i)\n",
    "    X = np.array(X)\n",
    "    y = np.array(y)\n",
    "\n",
    "    return X,y\n"
   ]
  },
  {
   "cell_type": "code",
   "execution_count": null,
   "metadata": {},
   "outputs": [],
   "source": [
    "%matplotlib\n",
    "\n",
    "from pylab import *\n",
    "from sklearn.preprocessing import MinMaxScaler\n",
    "\n",
    "\n",
    "(X,y) = createClusteredData(1000,3)\n",
    "\n",
    "# plt.figure(figsize=(8,6))\n",
    "# plt.scatter(X[:,0], X[:,1], c=y.astype(np.float))\n",
    "# plt.show()\n",
    "\n",
    "scaling = MinMaxScaler(feature_range=(-1,1)).fit(X)\n",
    "X = scaling.transform(X) #Apply to featured data\n",
    "\n",
    "plt.figure(figsize=(8,6))\n",
    "plt.scatter(X[:,0], X[:,1], c=y.astype(np.float))\n",
    "plt.show()\n"
   ]
  },
  {
   "cell_type": "code",
   "execution_count": null,
   "metadata": {},
   "outputs": [],
   "source": [
    "from sklearn import svm, datasets\n",
    "\n",
    "C = 1.0\n",
    "svc = svm.SVC(kernel=\"linear\", C=C).fit(X,y)"
   ]
  },
  {
   "cell_type": "code",
   "execution_count": null,
   "metadata": {},
   "outputs": [],
   "source": [
    "def plotPredictions(clf):\n",
    "    #Create a dense grid of points to sample\n",
    "    xx,yy = np.meshgrid(np.arange(-1,1, .001), np.arange(-1,1,.001))\n",
    "\n",
    "    #Convert to Numpy arrays\n",
    "    npx = xx.ravel()\n",
    "    npy = yy.ravel()\n",
    "\n",
    "    #Convert to a list of 2D (income, age) points\n",
    "    samplePoints = np.c_[npx,npy]\n",
    "\n",
    "    #Generate predicted labels (Cluster numbers) for each point\n",
    "\n",
    "    Z = clf.predict(samplePoints)\n",
    "\n",
    "    plt.figure(figsize=(8,6))\n",
    "    Z = Z.reshape(xx.shape) #Reshape results to match xx dimension\n",
    "    plt.contourf(xx,yy,Z, cmap=plt.cm.Paired, alpha=0.8) #Draw the contour\n",
    "    plt.scatter(X[:,0], X[:,1], c=y.astype(np.float)) #Draw the points \n",
    "    plt.show()\n",
    "\n",
    "plotPredictions(svc)"
   ]
  },
  {
   "cell_type": "code",
   "execution_count": null,
   "metadata": {},
   "outputs": [],
   "source": [
    "#prediction 1\n",
    "\n",
    "print(svc.predict(scaling.transform([[2000000,40]])))"
   ]
  },
  {
   "cell_type": "code",
   "execution_count": null,
   "metadata": {},
   "outputs": [],
   "source": [
    "#prediction 2\n",
    "\n",
    "print(svc.predict(scaling.transform([[50000,65]])))"
   ]
  }
 ],
 "metadata": {
  "interpreter": {
   "hash": "14f7bfd57fa46008fb30697fad4283432cf23d35a463ed17e5782dbc7a28fafd"
  },
  "kernelspec": {
   "display_name": "Python 3 (ipykernel)",
   "language": "python",
   "name": "python3"
  },
  "language_info": {
   "codemirror_mode": {
    "name": "ipython",
    "version": 3
   },
   "file_extension": ".py",
   "mimetype": "text/x-python",
   "name": "python",
   "nbconvert_exporter": "python",
   "pygments_lexer": "ipython3",
   "version": "3.8.10"
  }
 },
 "nbformat": 4,
 "nbformat_minor": 2
}
