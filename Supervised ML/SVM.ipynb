{
 "cells": [
  {
   "cell_type": "code",
   "execution_count": 2,
   "source": [
    "import numpy as np\r\n",
    "\r\n",
    "def createClusteredData(N,k):\r\n",
    "    np.random.seed(1234)\r\n",
    "    pointsPerCluster = float(N)/k\r\n",
    "    X=[]\r\n",
    "    y=[]\r\n",
    "\r\n",
    "    for i in range(k):\r\n",
    "        incomeCentroid = np.random.uniform(20000.0, 200000)\r\n",
    "        ageCentroid = np.random.uniform(20.0, 70.0)\r\n",
    "\r\n",
    "        for j in range(int(pointsPerCluster)):\r\n",
    "            X.append([np.random.normal(incomeCentroid, 10000.0), np.random.normal(ageCentroid,2.0)])\r\n",
    "            y.append(i)\r\n",
    "    X = np.array(X)\r\n",
    "    y = np.array(y)\r\n",
    "\r\n",
    "    return X,y\r\n"
   ],
   "outputs": [],
   "metadata": {}
  },
  {
   "cell_type": "code",
   "execution_count": 3,
   "source": [
    "%matplotlib\r\n",
    "\r\n",
    "from pylab import *\r\n",
    "from sklearn.preprocessing import MinMaxScaler\r\n",
    "\r\n",
    "\r\n",
    "(X,y) = createClusteredData(100,5)\r\n",
    "\r\n",
    "# plt.figure(figsize=(8,6))\r\n",
    "# plt.scatter(X[:,0], X[:,1], c=y.astype(np.float))\r\n",
    "# plt.show()\r\n",
    "\r\n",
    "scaling = MinMaxScaler(feature_range=(-1,1)).fit(X)\r\n",
    "X = scaling.transform(X) #Apply to featured data\r\n",
    "\r\n",
    "plt.figure(figsize=(8,6))\r\n",
    "plt.scatter(X[:,0], X[:,1], c=y.astype(np.float))\r\n",
    "plt.show()\r\n"
   ],
   "outputs": [
    {
     "output_type": "stream",
     "name": "stdout",
     "text": [
      "Using matplotlib backend: Qt5Agg\n"
     ]
    },
    {
     "output_type": "stream",
     "name": "stderr",
     "text": [
      "<ipython-input-3-1a7d4b7c0809>:17: DeprecationWarning: `np.float` is a deprecated alias for the builtin `float`. To silence this warning, use `float` by itself. Doing this will not modify any behavior and is safe. If you specifically wanted the numpy scalar type, use `np.float64` here.\n",
      "Deprecated in NumPy 1.20; for more details and guidance: https://numpy.org/devdocs/release/1.20.0-notes.html#deprecations\n",
      "  plt.scatter(X[:,0], X[:,1], c=y.astype(np.float))\n"
     ]
    }
   ],
   "metadata": {}
  },
  {
   "cell_type": "code",
   "execution_count": 4,
   "source": [
    "from sklearn import svm, datasets\r\n",
    "\r\n",
    "C = 1.0\r\n",
    "svc = svm.SVC(kernel=\"linear\", C=C).fit(X,y)"
   ],
   "outputs": [],
   "metadata": {}
  },
  {
   "cell_type": "code",
   "execution_count": 5,
   "source": [
    "def plotPredictions(clf):\r\n",
    "    #Create a dense grid of points to sample\r\n",
    "    xx,yy = np.meshgrid(np.arange(-1,1, .001), np.arange(-1,1,.001))\r\n",
    "\r\n",
    "    #Convert to Numpy arrays\r\n",
    "    npx = xx.ravel()\r\n",
    "    npy = yy.ravel()\r\n",
    "\r\n",
    "    #Convert to a list of 2D (income, age) points\r\n",
    "    samplePoints = np.c_[npx,npy]\r\n",
    "\r\n",
    "    #Generate predicted labels (Cluster numbers) for each point\r\n",
    "\r\n",
    "    Z = clf.predict(samplePoints)\r\n",
    "\r\n",
    "    plt.figure(figsize=(8,6))\r\n",
    "    Z = Z.reshape(xx.shape) #Reshape results to match xx dimension\r\n",
    "    plt.contourf(xx,yy,Z, cmap=plt.cm.Paired, alpha=0.8) #Draw the contour\r\n",
    "    plt.scatter(X[:,0], X[:,1], c=y.astype(np.float)) #Draw the points \r\n",
    "    plt.show()\r\n",
    "\r\n",
    "plotPredictions(svc)"
   ],
   "outputs": [
    {
     "output_type": "stream",
     "name": "stderr",
     "text": [
      "<ipython-input-5-b347220aa2e4>:19: DeprecationWarning: `np.float` is a deprecated alias for the builtin `float`. To silence this warning, use `float` by itself. Doing this will not modify any behavior and is safe. If you specifically wanted the numpy scalar type, use `np.float64` here.\n",
      "Deprecated in NumPy 1.20; for more details and guidance: https://numpy.org/devdocs/release/1.20.0-notes.html#deprecations\n",
      "  plt.scatter(X[:,0], X[:,1], c=y.astype(np.float)) #Draw the points\n"
     ]
    }
   ],
   "metadata": {}
  },
  {
   "cell_type": "code",
   "execution_count": 6,
   "source": [
    "#prediction 1\r\n",
    "\r\n",
    "print(svc.predict(scaling.transform([[2000000,40]])))"
   ],
   "outputs": [
    {
     "output_type": "stream",
     "name": "stdout",
     "text": [
      "[3]\n"
     ]
    }
   ],
   "metadata": {}
  },
  {
   "cell_type": "code",
   "execution_count": 7,
   "source": [
    "#prediction 2\r\n",
    "\r\n",
    "print(svc.predict(scaling.transform([[50000,65]])))"
   ],
   "outputs": [
    {
     "output_type": "stream",
     "name": "stdout",
     "text": [
      "[2]\n"
     ]
    }
   ],
   "metadata": {}
  }
 ],
 "metadata": {
  "orig_nbformat": 4,
  "language_info": {
   "name": "python",
   "version": "3.8.8",
   "mimetype": "text/x-python",
   "codemirror_mode": {
    "name": "ipython",
    "version": 3
   },
   "pygments_lexer": "ipython3",
   "nbconvert_exporter": "python",
   "file_extension": ".py"
  },
  "kernelspec": {
   "name": "python3",
   "display_name": "Python 3.8.8 64-bit ('base': conda)"
  },
  "interpreter": {
   "hash": "14f7bfd57fa46008fb30697fad4283432cf23d35a463ed17e5782dbc7a28fafd"
  }
 },
 "nbformat": 4,
 "nbformat_minor": 2
}