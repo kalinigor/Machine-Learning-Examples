{
 "cells": [
  {
   "cell_type": "code",
   "execution_count": 18,
   "metadata": {},
   "outputs": [],
   "source": [
    "import os\n",
    "import io\n",
    "import numpy\n",
    "from pandas import DataFrame\n",
    "from sklearn.feature_extraction.text import CountVectorizer\n",
    "from sklearn.naive_bayes import MultinomialNB\n",
    "\n",
    "def readFiles(path):\n",
    "    for root, dirnames, filenames in os.walk(path):\n",
    "        for filename in filenames:\n",
    "            path = os.path.join(root,filename) #builds up full path for each file\n",
    "            \n",
    "            inBody = False\n",
    "            lines = []\n",
    "            \n",
    "            f = io.open(path, 'r', encoding='latin1')\n",
    "            for line in f:\n",
    "                if inBody:\n",
    "                    lines.append(line)\n",
    "                elif line =='\\n': #takes only body information (without header )\n",
    "                    inBody = True \n",
    "            f.close()\n",
    "            message = '\\n'.join(lines)\n",
    "            yield path, message\n",
    "                        \n",
    "\n",
    "def dataFrameFromDirectory(path, classification):\n",
    "    rows = []\n",
    "    index = []\n",
    "    \n",
    "    for filename, message in readFiles(path):\n",
    "        rows.append({'message':message, 'class':classification})\n",
    "        index.append(filename)\n",
    "    return DataFrame(rows, index=index)\n",
    "                        \n",
    "\n",
    "data = DataFrame({\"message\":[], 'class':[]})\n",
    "                        \n",
    "                        \n",
    "data = data.append(dataFrameFromDirectory('/home/igor/Desktop/Projects/Python/Machine Learning/Datasets/DataScience-Python3/emails/spam','spam'))\n",
    "data = data.append(dataFrameFromDirectory('/home/igor/Desktop/Projects/Python/Machine Learning/Datasets/DataScience-Python3/emails/ham','ham'))"
   ]
  },
  {
   "cell_type": "code",
   "execution_count": 19,
   "metadata": {},
   "outputs": [
    {
     "data": {
      "text/html": [
       "<div>\n",
       "<style scoped>\n",
       "    .dataframe tbody tr th:only-of-type {\n",
       "        vertical-align: middle;\n",
       "    }\n",
       "\n",
       "    .dataframe tbody tr th {\n",
       "        vertical-align: top;\n",
       "    }\n",
       "\n",
       "    .dataframe thead th {\n",
       "        text-align: right;\n",
       "    }\n",
       "</style>\n",
       "<table border=\"1\" class=\"dataframe\">\n",
       "  <thead>\n",
       "    <tr style=\"text-align: right;\">\n",
       "      <th></th>\n",
       "      <th>message</th>\n",
       "      <th>class</th>\n",
       "    </tr>\n",
       "  </thead>\n",
       "  <tbody>\n",
       "    <tr>\n",
       "      <th>/home/igor/Desktop/Projects/Python/Machine Learning/Datasets/DataScience-Python3/emails/spam/00093.ca4edc32d2ff8e1dbb5f9c0b15ec435b</th>\n",
       "      <td>Get your favorite Poker action at http://www.m...</td>\n",
       "      <td>spam</td>\n",
       "    </tr>\n",
       "    <tr>\n",
       "      <th>/home/igor/Desktop/Projects/Python/Machine Learning/Datasets/DataScience-Python3/emails/spam/00101.5a24bf3ba3962442179b1a0325a1d1cb</th>\n",
       "      <td>&lt;html&gt;\\n\\n&lt;head&gt;\\n\\n&lt;title&gt;Digital Publishing ...</td>\n",
       "      <td>spam</td>\n",
       "    </tr>\n",
       "    <tr>\n",
       "      <th>/home/igor/Desktop/Projects/Python/Machine Learning/Datasets/DataScience-Python3/emails/spam/00202.d5b52386f66bd36cd1508319c82cf671</th>\n",
       "      <td>Me and my friends have this brand new idea, a ...</td>\n",
       "      <td>spam</td>\n",
       "    </tr>\n",
       "    <tr>\n",
       "      <th>/home/igor/Desktop/Projects/Python/Machine Learning/Datasets/DataScience-Python3/emails/spam/00418.6321175c76411371c109eafc99563d2c</th>\n",
       "      <td>&lt;!DOCTYPE HTML PUBLIC \"-//W3C//DTD HTML 4.0 Tr...</td>\n",
       "      <td>spam</td>\n",
       "    </tr>\n",
       "    <tr>\n",
       "      <th>/home/igor/Desktop/Projects/Python/Machine Learning/Datasets/DataScience-Python3/emails/spam/00132.0ead3e293c6c41cbffb69670e8b85ae7</th>\n",
       "      <td>As seen on NBC, CBS, CNN, and even Oprah! The ...</td>\n",
       "      <td>spam</td>\n",
       "    </tr>\n",
       "  </tbody>\n",
       "</table>\n",
       "</div>"
      ],
      "text/plain": [
       "                                                                                              message  \\\n",
       "/home/igor/Desktop/Projects/Python/Machine Lear...  Get your favorite Poker action at http://www.m...   \n",
       "/home/igor/Desktop/Projects/Python/Machine Lear...  <html>\\n\\n<head>\\n\\n<title>Digital Publishing ...   \n",
       "/home/igor/Desktop/Projects/Python/Machine Lear...  Me and my friends have this brand new idea, a ...   \n",
       "/home/igor/Desktop/Projects/Python/Machine Lear...  <!DOCTYPE HTML PUBLIC \"-//W3C//DTD HTML 4.0 Tr...   \n",
       "/home/igor/Desktop/Projects/Python/Machine Lear...  As seen on NBC, CBS, CNN, and even Oprah! The ...   \n",
       "\n",
       "                                                   class  \n",
       "/home/igor/Desktop/Projects/Python/Machine Lear...  spam  \n",
       "/home/igor/Desktop/Projects/Python/Machine Lear...  spam  \n",
       "/home/igor/Desktop/Projects/Python/Machine Lear...  spam  \n",
       "/home/igor/Desktop/Projects/Python/Machine Lear...  spam  \n",
       "/home/igor/Desktop/Projects/Python/Machine Lear...  spam  "
      ]
     },
     "execution_count": 19,
     "metadata": {},
     "output_type": "execute_result"
    }
   ],
   "source": [
    "data.head()"
   ]
  },
  {
   "cell_type": "code",
   "execution_count": 20,
   "metadata": {},
   "outputs": [
    {
     "name": "stdout",
     "output_type": "stream",
     "text": [
      "  (0, 26143)\t1\n",
      "  (0, 60804)\t1\n",
      "  (0, 23874)\t1\n",
      "  (0, 43422)\t6\n",
      "  (0, 9394)\t1\n",
      "  (0, 11640)\t2\n",
      "  (0, 28855)\t3\n",
      "  (0, 59298)\t3\n",
      "  (0, 38161)\t2\n",
      "  (0, 38953)\t2\n",
      "  (0, 43193)\t2\n",
      "  (0, 9871)\t1\n",
      "  (0, 46257)\t2\n",
      "  (0, 42370)\t1\n",
      "  (0, 25222)\t2\n",
      "  (0, 11364)\t1\n",
      "  (0, 53220)\t3\n",
      "  (0, 58986)\t2\n",
      "  (0, 24806)\t3\n",
      "  (0, 37658)\t1\n",
      "  (0, 40892)\t1\n",
      "  (0, 32663)\t1\n",
      "  (0, 25396)\t1\n",
      "  (0, 9233)\t1\n",
      "  (0, 40674)\t1\n",
      "  :\t:\n",
      "  (2999, 2495)\t4\n",
      "  (2999, 36111)\t1\n",
      "  (2999, 55963)\t1\n",
      "  (2999, 36934)\t3\n",
      "  (2999, 476)\t2\n",
      "  (2999, 49842)\t2\n",
      "  (2999, 5091)\t1\n",
      "  (2999, 396)\t1\n",
      "  (2999, 35317)\t1\n",
      "  (2999, 1770)\t1\n",
      "  (2999, 43609)\t2\n",
      "  (2999, 37652)\t2\n",
      "  (2999, 11409)\t2\n",
      "  (2999, 43854)\t2\n",
      "  (2999, 42424)\t7\n",
      "  (2999, 61529)\t1\n",
      "  (2999, 44578)\t1\n",
      "  (2999, 42425)\t1\n",
      "  (2999, 45936)\t1\n",
      "  (2999, 18210)\t1\n",
      "  (2999, 43547)\t1\n",
      "  (2999, 51824)\t1\n",
      "  (2999, 37662)\t1\n",
      "  (2999, 1194)\t1\n",
      "  (2999, 2271)\t1\n"
     ]
    },
    {
     "data": {
      "text/plain": [
       "MultinomialNB()"
      ]
     },
     "execution_count": 20,
     "metadata": {},
     "output_type": "execute_result"
    }
   ],
   "source": [
    "#CountVectorizer - splits up each message into list of words. \n",
    "#Words are thrown into MultinomialNB classifier. \n",
    "#Calling fit() method we've got a trained spam filter ready.\n",
    "\n",
    "vectorizer = CountVectorizer()\n",
    "counts = vectorizer.fit_transform(data['message'].values)\n",
    "\n",
    "print(counts)\n",
    "#Training  a model:\n",
    "\n",
    "classifier = MultinomialNB()\n",
    "\n",
    "targets = data['class'].values\n",
    "\n",
    "classifier.fit(counts, targets)\n",
    "\n"
   ]
  },
  {
   "cell_type": "code",
   "execution_count": 21,
   "metadata": {},
   "outputs": [
    {
     "name": "stdout",
     "output_type": "stream",
     "text": [
      "['spam' 'ham']\n"
     ]
    }
   ],
   "source": [
    "#Testing a model\n",
    "\n",
    "examples = ['Free Viagra now !!!', \"Hi, Bob, how about a free viagra today\"]\n",
    "\n",
    "example_counts = vectorizer.transform(examples)\n",
    "predictions = classifier.predict(example_counts)\n",
    "print(predictions)"
   ]
  },
  {
   "cell_type": "code",
   "execution_count": null,
   "metadata": {},
   "outputs": [],
   "source": []
  },
  {
   "cell_type": "code",
   "execution_count": null,
   "metadata": {},
   "outputs": [],
   "source": []
  },
  {
   "cell_type": "code",
   "execution_count": null,
   "metadata": {},
   "outputs": [],
   "source": []
  }
 ],
 "metadata": {
  "interpreter": {
   "hash": "916dbcbb3f70747c44a77c7bcd40155683ae19c65e1c03b4aa3499c5328201f1"
  },
  "kernelspec": {
   "display_name": "Python 3.8.10 64-bit",
   "name": "python3"
  },
  "language_info": {
   "codemirror_mode": {
    "name": "ipython",
    "version": 3
   },
   "file_extension": ".py",
   "mimetype": "text/x-python",
   "name": "python",
   "nbconvert_exporter": "python",
   "pygments_lexer": "ipython3",
   "version": "3.8.10"
  }
 },
 "nbformat": 4,
 "nbformat_minor": 5
}
