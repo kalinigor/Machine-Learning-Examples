{
 "cells": [
  {
   "cell_type": "markdown",
   "id": "4b47948f",
   "metadata": {},
   "source": [
    "# Mean vs Median"
   ]
  },
  {
   "cell_type": "code",
   "execution_count": 4,
   "id": "962fb2be",
   "metadata": {},
   "outputs": [
    {
     "data": {
      "text/plain": [
       "27158.735194449924"
      ]
     },
     "execution_count": 4,
     "metadata": {},
     "output_type": "execute_result"
    }
   ],
   "source": [
    "import numpy as np\n",
    "\n",
    "incomes = np.random.normal(27000,15000,10000)\n",
    "\n",
    "np.mean(incomes)"
   ]
  },
  {
   "cell_type": "code",
   "execution_count": null,
   "id": "00e9a392",
   "metadata": {},
   "outputs": [],
   "source": []
  },
  {
   "cell_type": "code",
   "execution_count": 11,
   "id": "e289029d",
   "metadata": {},
   "outputs": [
    {
     "data": {
      "image/png": "[encoded data removed]",
      "text/plain": [
       "<Figure size 432x288 with 1 Axes>"
      ]
     },
     "metadata": {
      "needs_background": "light"
     },
     "output_type": "display_data"
    }
   ],
   "source": [
    "%matplotlib inline\n",
    "\n",
    "import matplotlib.pyplot as plt\n",
    "plt.hist(incomes,100)\n",
    "plt.show()"
   ]
  },
  {
   "cell_type": "code",
   "execution_count": 12,
   "id": "3c80cd3b",
   "metadata": {},
   "outputs": [
    {
     "data": {
      "text/plain": [
       "127146.02059239069"
      ]
     },
     "execution_count": 12,
     "metadata": {},
     "output_type": "execute_result"
    }
   ],
   "source": [
    "np.mean(incomes)"
   ]
  },
  {
   "cell_type": "code",
   "execution_count": 15,
   "id": "e3b61597",
   "metadata": {},
   "outputs": [
    {
     "data": {
      "text/plain": [
       "27139.63552601046"
      ]
     },
     "execution_count": 15,
     "metadata": {},
     "output_type": "execute_result"
    }
   ],
   "source": [
    "np.median(incomes)"
   ]
  },
  {
   "cell_type": "code",
   "execution_count": 10,
   "id": "7c10ffe5",
   "metadata": {},
   "outputs": [],
   "source": [
    "incomes = np.append(incomes, [1000000000])"
   ]
  },
  {
   "cell_type": "markdown",
   "id": "b7cab253",
   "metadata": {},
   "source": [
    "# MODE"
   ]
  },
  {
   "cell_type": "code",
   "execution_count": 23,
   "id": "a4b23832",
   "metadata": {},
   "outputs": [
    {
     "data": {
      "text/plain": [
       "array([28, 52, 80, 52, 50, 25, 35, 78, 34, 44, 40, 23, 86, 58, 56, 59, 44,\n",
       "       72, 59, 40, 74, 33, 56, 66, 44, 54, 30, 45, 37, 73, 38, 31, 40, 51,\n",
       "       84, 79, 56, 87, 63, 21, 85, 53, 58, 21, 38, 80, 69, 58, 54, 47, 79,\n",
       "       22, 88, 55, 59, 48, 39, 24, 48, 27, 19, 72, 76, 57, 74, 35, 79, 32,\n",
       "       89, 30, 22, 60, 22, 74, 20, 24, 34, 80, 82, 30, 52, 88, 45, 76, 18,\n",
       "       38, 30, 23, 66, 48, 45, 72, 89, 34, 41, 34, 44, 32, 42, 80, 67, 19,\n",
       "       89, 62, 54, 28, 66, 74, 87, 36, 37, 44, 31, 42, 60, 63, 39, 81, 80,\n",
       "       73, 80, 86, 69, 59, 27, 38, 66, 63, 39, 68, 39, 59, 54, 73, 77, 35,\n",
       "       78, 70, 23, 42, 43, 62, 34, 60, 66, 35, 79, 86, 82, 81, 55, 20, 44,\n",
       "       72, 79, 88, 56, 42, 43, 63, 77, 38, 60, 66, 66, 35, 88, 29, 23, 41,\n",
       "       51, 74, 32, 55, 35, 49, 82, 18, 70, 83, 51, 72, 82, 83, 73, 80, 61,\n",
       "       69, 61, 61, 66, 22, 39, 48, 44, 64, 25, 29, 83, 79, 46, 89, 22, 77,\n",
       "       36, 25, 74, 40, 23, 35, 75, 62, 63, 69, 80, 20, 69, 63, 38, 32, 42,\n",
       "       31, 77, 50, 81, 30, 53, 62, 34, 55, 40, 26, 37, 53, 30, 18, 44, 56,\n",
       "       42, 71, 21, 77, 51, 40, 62, 83, 59, 70, 67, 43, 62, 67, 48, 60, 60,\n",
       "       64, 72, 26, 72, 59, 64, 74, 44, 35, 70, 39, 78, 33, 67, 67, 64, 24,\n",
       "       36, 74, 24, 79, 41, 27, 52, 31, 33, 59, 24, 89, 72, 26, 32, 22, 72,\n",
       "       42, 79, 41, 72, 22, 41, 74, 85, 89, 69, 76, 63, 85, 86, 18, 32, 74,\n",
       "       36, 52, 27, 69, 56, 26, 36, 72, 29, 39, 48, 44, 34, 22, 39, 44, 60,\n",
       "       23, 32, 84, 83, 53, 81, 62, 80, 57, 52, 59, 25, 28, 52, 89, 25, 33,\n",
       "       83, 77, 86, 72, 19, 73, 37, 73, 26, 40, 73, 65, 53, 75, 45, 82, 54,\n",
       "       71, 54, 47, 36, 34, 73, 86, 89, 85, 28, 37, 74, 45, 22, 70, 31, 18,\n",
       "       75, 86, 81, 84, 20, 40, 20, 43, 47, 18, 24, 26, 46, 81, 38, 22, 60,\n",
       "       71, 41, 23, 25, 59, 61, 54, 44, 56, 22, 52, 54, 46, 46, 34, 29, 50,\n",
       "       63, 56, 44, 21, 53, 27, 40, 42, 31, 80, 37, 27, 34, 63, 84, 50, 19,\n",
       "       27, 57, 24, 74, 31, 68, 47, 87, 23, 48, 54, 58, 38, 59, 47, 57, 26,\n",
       "       33, 30, 61, 20, 40, 87, 63, 33, 46, 56, 41, 56, 74, 51, 29, 19, 46,\n",
       "       60, 89, 44, 39, 88, 35, 44, 55, 75, 73, 67, 74, 45, 56, 87, 59, 36,\n",
       "       50, 49, 74, 83, 30, 37, 57, 67, 62, 51, 34, 28, 82, 50, 48, 83, 21,\n",
       "       55, 84, 89, 26, 57, 56, 39])"
      ]
     },
     "execution_count": 23,
     "metadata": {},
     "output_type": "execute_result"
    }
   ],
   "source": [
    "ages = np. random.randint(18, high=90, size=500)\n",
    "ages"
   ]
  },
  {
   "cell_type": "code",
   "execution_count": 24,
   "id": "ccc2a6fd",
   "metadata": {},
   "outputs": [
    {
     "data": {
      "text/plain": [
       "ModeResult(mode=array([44]), count=array([15]))"
      ]
     },
     "execution_count": 24,
     "metadata": {},
     "output_type": "execute_result"
    }
   ],
   "source": [
    "from scipy import stats\n",
    "stats.mode(ages)"
   ]
  },
  {
   "cell_type": "markdown",
   "id": "2c08730a",
   "metadata": {},
   "source": [
    "# Exercise\n",
    "\n",
    "Total amount spent per  transaction. \n",
    "Find mean and median of this data. "
   ]
  },
  {
   "cell_type": "code",
   "execution_count": 25,
   "id": "51b0fcaf",
   "metadata": {},
   "outputs": [
    {
     "data": {
      "image/png": "[encoded data removed]",
      "text/plain": [
       "<Figure size 432x288 with 1 Axes>"
      ]
     },
     "metadata": {
      "needs_background": "light"
     },
     "output_type": "display_data"
    }
   ],
   "source": [
    "import numpy as np\n",
    "import matplotlib.pyplot as plt\n",
    "\n",
    "incomes = np.random.normal(100.0, 20.0, 10000)\n",
    "\n",
    "plt.hist(incomes,50)\n",
    "plt.show()"
   ]
  },
  {
   "cell_type": "code",
   "execution_count": 36,
   "id": "e5e4c5a2",
   "metadata": {},
   "outputs": [
    {
     "data": {
      "text/plain": [
       "1110.0769144582387"
      ]
     },
     "execution_count": 36,
     "metadata": {},
     "output_type": "execute_result"
    }
   ],
   "source": [
    "np.mean(incomes)"
   ]
  },
  {
   "cell_type": "code",
   "execution_count": 35,
   "id": "97a2890a",
   "metadata": {},
   "outputs": [
    {
     "data": {
      "text/plain": [
       "100.18239081565399"
      ]
     },
     "execution_count": 35,
     "metadata": {},
     "output_type": "execute_result"
    }
   ],
   "source": [
    "np.median(incomes)"
   ]
  },
  {
   "cell_type": "code",
   "execution_count": 34,
   "id": "9ce9b30a",
   "metadata": {},
   "outputs": [],
   "source": [
    "incomes = np.append(incomes, [10000000])"
   ]
  },
  {
   "cell_type": "code",
   "execution_count": 40,
   "id": "00fe0c89",
   "metadata": {},
   "outputs": [
    {
     "data": {
      "text/plain": [
       "ModeResult(mode=array([19.99250644]), count=array([1]))"
      ]
     },
     "execution_count": 40,
     "metadata": {},
     "output_type": "execute_result"
    }
   ],
   "source": []
  },
  {
   "cell_type": "code",
   "execution_count": null,
   "id": "f40358ed",
   "metadata": {},
   "outputs": [],
   "source": []
  },
  {
   "cell_type": "code",
   "execution_count": null,
   "id": "ec71d032",
   "metadata": {},
   "outputs": [],
   "source": []
  }
 ],
 "metadata": {
  "kernelspec": {
   "display_name": "Python 3",
   "language": "python",
   "name": "python3"
  },
  "language_info": {
   "codemirror_mode": {
    "name": "ipython",
    "version": 3
   },
   "file_extension": ".py",
   "mimetype": "text/x-python",
   "name": "python",
   "nbconvert_exporter": "python",
   "pygments_lexer": "ipython3",
   "version": "3.8.8"
  }
 },
 "nbformat": 4,
 "nbformat_minor": 5
}
