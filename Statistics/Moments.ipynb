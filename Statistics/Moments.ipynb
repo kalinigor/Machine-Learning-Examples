{
 "cells": [
  {
   "cell_type": "markdown",
   "id": "ba4cbd61",
   "metadata": {},
   "source": [
    "# Moments: Mean, Variance, Skew, Kurtosis"
   ]
  },
  {
   "cell_type": "code",
   "execution_count": 18,
   "id": "eb92035a",
   "metadata": {},
   "outputs": [
    {
     "data": {
      "image/png": "[encoded data removed]",
      "text/plain": [
       "<Figure size 432x288 with 1 Axes>"
      ]
     },
     "metadata": {
      "needs_background": "light"
     },
     "output_type": "display_data"
    }
   ],
   "source": [
    "import numpy as np\n",
    "import matplotlib.pyplot as plt\n",
    "\n",
    "vals = np.random.normal(5,0.5,10000)\n",
    "plt.hist(vals,50)\n",
    "plt.show()"
   ]
  },
  {
   "cell_type": "code",
   "execution_count": 19,
   "id": "4eb42371",
   "metadata": {},
   "outputs": [
    {
     "data": {
      "text/plain": [
       "5.001815184866131"
      ]
     },
     "execution_count": 19,
     "metadata": {},
     "output_type": "execute_result"
    }
   ],
   "source": [
    "#First moment (mean) - around 0\n",
    "np.mean(vals)"
   ]
  },
  {
   "cell_type": "code",
   "execution_count": 20,
   "id": "549d85a0",
   "metadata": {},
   "outputs": [
    {
     "data": {
      "text/plain": [
       "0.24720072816222946"
      ]
     },
     "execution_count": 20,
     "metadata": {},
     "output_type": "execute_result"
    }
   ],
   "source": [
    "#Second moment (variance)\n",
    "\n",
    "np.var(vals)"
   ]
  },
  {
   "cell_type": "code",
   "execution_count": 23,
   "id": "c4ce840d",
   "metadata": {},
   "outputs": [
    {
     "data": {
      "text/plain": [
       "-0.005462848144828946"
      ]
     },
     "execution_count": 23,
     "metadata": {},
     "output_type": "execute_result"
    }
   ],
   "source": [
    "#Third moment (skew)\n",
    "\n",
    "import scipy.stats as sp\n",
    "sp.skew(vals) #-0.02"
   ]
  },
  {
   "cell_type": "code",
   "execution_count": 22,
   "id": "42d935fa",
   "metadata": {},
   "outputs": [
    {
     "data": {
      "text/plain": [
       "-0.0025829517002033953"
      ]
     },
     "execution_count": 22,
     "metadata": {},
     "output_type": "execute_result"
    }
   ],
   "source": [
    "#Fourth moment (kurtosis)\n",
    "\n",
    "sp.kurtosis(vals) #-0.066"
   ]
  },
  {
   "cell_type": "code",
   "execution_count": null,
   "id": "4db334cf",
   "metadata": {},
   "outputs": [],
   "source": []
  },
  {
   "cell_type": "code",
   "execution_count": null,
   "id": "ae106889",
   "metadata": {},
   "outputs": [],
   "source": []
  }
 ],
 "metadata": {
  "kernelspec": {
   "display_name": "Python 3",
   "language": "python",
   "name": "python3"
  },
  "language_info": {
   "codemirror_mode": {
    "name": "ipython",
    "version": 3
   },
   "file_extension": ".py",
   "mimetype": "text/x-python",
   "name": "python",
   "nbconvert_exporter": "python",
   "pygments_lexer": "ipython3",
   "version": "3.8.8"
  }
 },
 "nbformat": 4,
 "nbformat_minor": 5
}
