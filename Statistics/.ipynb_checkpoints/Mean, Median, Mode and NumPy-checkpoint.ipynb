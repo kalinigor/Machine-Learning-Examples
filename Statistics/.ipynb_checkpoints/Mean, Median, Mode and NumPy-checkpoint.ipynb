{
 "cells": [
  {
   "cell_type": "markdown",
   "id": "7c6f54ed",
   "metadata": {},
   "source": [
    "# Mean vs Median"
   ]
  },
  {
   "cell_type": "code",
   "execution_count": 4,
   "id": "af9d03bf",
   "metadata": {},
   "outputs": [
    {
     "data": {
      "text/plain": [
       "27158.735194449924"
      ]
     },
     "execution_count": 4,
     "metadata": {},
     "output_type": "execute_result"
    }
   ],
   "source": [
    "import numpy as np\n",
    "\n",
    "incomes = np.random.normal(27000,15000,10000)\n",
    "\n",
    "np.mean(incomes)"
   ]
  },
  {
   "cell_type": "code",
   "execution_count": null,
   "id": "db695b09",
   "metadata": {},
   "outputs": [],
   "source": []
  },
  {
   "cell_type": "code",
   "execution_count": 11,
   "id": "f5a2b1ed",
   "metadata": {},
   "outputs": [
    {
     "data": {
      "image/png": "[encoded data removed]",
      "text/plain": [
       "<Figure size 432x288 with 1 Axes>"
      ]
     },
     "metadata": {
      "needs_background": "light"
     },
     "output_type": "display_data"
    }
   ],
   "source": [
    "%matplotlib inline\n",
    "\n",
    "import matplotlib.pyplot as plt\n",
    "plt.hist(incomes,100)\n",
    "plt.show()"
   ]
  },
  {
   "cell_type": "code",
   "execution_count": 12,
   "id": "78a975b8",
   "metadata": {},
   "outputs": [
    {
     "data": {
      "text/plain": [
       "127146.02059239069"
      ]
     },
     "execution_count": 12,
     "metadata": {},
     "output_type": "execute_result"
    }
   ],
   "source": [
    "np.mean(incomes)"
   ]
  },
  {
   "cell_type": "code",
   "execution_count": 15,
   "id": "ac18caf7",
   "metadata": {},
   "outputs": [
    {
     "data": {
      "text/plain": [
       "27139.63552601046"
      ]
     },
     "execution_count": 15,
     "metadata": {},
     "output_type": "execute_result"
    }
   ],
   "source": [
    "np.median(incomes)"
   ]
  },
  {
   "cell_type": "code",
   "execution_count": 10,
   "id": "c5771f8a",
   "metadata": {},
   "outputs": [],
   "source": [
    "incomes = np.append(incomes, [1000000000])"
   ]
  },
  {
   "cell_type": "markdown",
   "id": "a03710ec",
   "metadata": {},
   "source": [
    "# MODE"
   ]
  },
  {
   "cell_type": "code",
   "execution_count": 17,
   "id": "6d8d0202",
   "metadata": {},
   "outputs": [
    {
     "data": {
      "text/plain": [
       "array([29, 85, 39, 85, 21, 69, 77, 69, 25, 23, 40, 82, 45, 47, 25, 48, 60,\n",
       "       85, 69, 45, 69, 74, 62, 78, 80, 82, 20, 71, 41, 50, 67, 48, 53, 52,\n",
       "       69, 39, 24, 54, 51, 50, 37, 55, 78, 66, 31, 80, 30, 44, 30, 71, 56,\n",
       "       47, 26, 42, 44, 66, 20, 46, 27, 71, 87, 45, 59, 81, 69, 50, 33, 24,\n",
       "       59, 20, 69, 26, 22, 79, 20, 80, 70, 64, 30, 89, 19, 28, 77, 60, 29,\n",
       "       39, 83, 21, 28, 49, 56, 73, 35, 35, 34, 81, 20, 29, 67, 62, 87, 58,\n",
       "       70, 25, 82, 62, 18, 28, 89, 58, 65, 29, 70, 58, 81, 22, 82, 62, 34,\n",
       "       66, 85, 41, 32, 22, 65, 21, 69, 27, 71, 89, 84, 84, 73, 82, 22, 32,\n",
       "       24, 37, 38, 40, 88, 80, 57, 69, 59, 28, 48, 44, 54, 29, 42, 76, 86,\n",
       "       69, 71, 39, 55, 24, 67, 25, 53, 52, 82, 20, 75, 35, 86, 25, 30, 42,\n",
       "       70, 62, 33, 79, 47, 33, 22, 44, 20, 65, 53, 65, 78, 45, 20, 19, 47,\n",
       "       59, 39, 83, 26, 22, 22, 68, 22, 21, 68, 36, 22, 42, 39, 54, 53, 43,\n",
       "       71, 39, 36, 69, 89, 35, 33, 21, 66, 41, 27, 25, 89, 67, 88, 22, 71,\n",
       "       29, 45, 54, 41, 71, 32, 64, 45, 60, 30, 70, 27, 25, 67, 34, 85, 25,\n",
       "       57, 28, 62, 40, 85, 46, 75, 51, 88, 54, 54, 65, 32, 71, 43, 60, 81,\n",
       "       26, 56, 72, 65, 31, 67, 64, 78, 55, 40, 57, 86, 82, 36, 51, 54, 24,\n",
       "       25, 33, 78, 38, 53, 88, 78, 31, 45, 81, 44, 81, 84, 78, 49, 40, 82,\n",
       "       47, 22, 47, 35, 62, 22, 48, 45, 77, 35, 38, 61, 52, 86, 48, 34, 85,\n",
       "       89, 53, 53, 65, 53, 76, 23, 30, 69, 32, 32, 73, 47, 34, 86, 29, 57,\n",
       "       27, 39, 33, 81, 19, 19, 28, 76, 33, 18, 47, 67, 25, 29, 27, 67, 75,\n",
       "       78, 31, 87, 68, 53, 40, 23, 49, 74, 39, 35, 55, 69, 78, 46, 21, 79,\n",
       "       44, 34, 34, 18, 70, 79, 24, 18, 72, 58, 72, 55, 60, 52, 75, 60, 80,\n",
       "       89, 38, 29, 22, 25, 87, 73, 49, 72, 64, 54, 71, 49, 22, 24, 79, 35,\n",
       "       71, 40, 57, 64, 41, 43, 42, 36, 83, 69, 75, 56, 69, 27, 61, 29, 84,\n",
       "       62, 53, 24, 50, 89, 44, 27, 47, 81, 66, 23, 76, 86, 56, 20, 27, 36,\n",
       "       21, 69, 54, 52, 57, 68, 74, 87, 64, 56, 61, 69, 18, 67, 54, 51, 27,\n",
       "       68, 65, 42, 67, 38, 41, 46, 70, 52, 48, 53, 39, 52, 34, 87, 64, 46,\n",
       "       60, 77, 52, 59, 39, 66, 60, 24, 18, 74, 20, 54, 40, 47, 70, 37, 24,\n",
       "       76, 66, 78, 30, 65, 23, 55, 40, 74, 82, 41, 67, 44, 74, 23, 32, 75,\n",
       "       23, 80, 76, 23, 48, 86, 62])"
      ]
     },
     "execution_count": 17,
     "metadata": {},
     "output_type": "execute_result"
    }
   ],
   "source": [
    "ages = np. random.randint(18, high=90, size=500)\n",
    "ages"
   ]
  },
  {
   "cell_type": "code",
   "execution_count": 19,
   "id": "ec5bc33f",
   "metadata": {},
   "outputs": [
    {
     "data": {
      "text/plain": [
       "ModeResult(mode=array([69]), count=array([17]))"
      ]
     },
     "execution_count": 19,
     "metadata": {},
     "output_type": "execute_result"
    }
   ],
   "source": [
    "from scipy import stats\n",
    "stats.mode(ages)"
   ]
  },
  {
   "cell_type": "code",
   "execution_count": null,
   "id": "7962f928",
   "metadata": {},
   "outputs": [],
   "source": []
  }
 ],
 "metadata": {
  "kernelspec": {
   "display_name": "Python 3",
   "language": "python",
   "name": "python3"
  },
  "language_info": {
   "codemirror_mode": {
    "name": "ipython",
    "version": 3
   },
   "file_extension": ".py",
   "mimetype": "text/x-python",
   "name": "python",
   "nbconvert_exporter": "python",
   "pygments_lexer": "ipython3",
   "version": "3.8.8"
  }
 },
 "nbformat": 4,
 "nbformat_minor": 5
}
