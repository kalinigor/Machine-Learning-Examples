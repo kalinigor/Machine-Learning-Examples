{
 "cells": [
  {
   "cell_type": "markdown",
   "id": "d6213cc8",
   "metadata": {},
   "source": [
    "# Conditional Probability Activity and Exercise\n",
    "\n",
    "Generate 100,000 random \"people\" and assigns them age range(20,30,40,50,60,70)\n",
    "Assign lower probability for young people to buy stuff.\n",
    "\"totals\" total number of people in each group. \n",
    "\"purchases\" total number of things purchased by the people in each group.\n",
    "\"totalPurchases\" - grand total purchases\n",
    "\n"
   ]
  },
  {
   "cell_type": "code",
   "execution_count": 4,
   "id": "2513915c",
   "metadata": {},
   "outputs": [],
   "source": [
    "from numpy import random\n",
    "\n",
    "random.seed(0) #for consist results\n",
    "\n",
    "totals = {20:0, 30:0, 40:0, 50:0, 60:0, 70:0}\n",
    "purchases =  {20:0, 30:0, 40:0, 50:0, 60:0, 70:0}\n",
    "totalPurchases = 0\n",
    "\n",
    "for _ in range(100000):\n",
    "    ageDecade = random.choice([20,30,40,50,60,70])\n",
    "    purchaseProbability = float(ageDecade)/100.0 #Older have bigger chance to buy something\n",
    "    totals[ageDecade] +=1\n",
    "    if(random.random() < purchaseProbability):\n",
    "        totalPurchases += 1\n",
    "        purchases[ageDecade] +=1"
   ]
  },
  {
   "cell_type": "code",
   "execution_count": 5,
   "id": "b4a8e8f8",
   "metadata": {},
   "outputs": [
    {
     "data": {
      "text/plain": [
       "{20: 16576, 30: 16619, 40: 16632, 50: 16805, 60: 16664, 70: 16704}"
      ]
     },
     "execution_count": 5,
     "metadata": {},
     "output_type": "execute_result"
    }
   ],
   "source": [
    "totals #consistent"
   ]
  },
  {
   "cell_type": "code",
   "execution_count": 6,
   "id": "fae68e32",
   "metadata": {},
   "outputs": [
    {
     "data": {
      "text/plain": [
       "{20: 3392, 30: 4974, 40: 6670, 50: 8319, 60: 9944, 70: 11713}"
      ]
     },
     "execution_count": 6,
     "metadata": {},
     "output_type": "execute_result"
    }
   ],
   "source": [
    "purchases #higher for older people"
   ]
  },
  {
   "cell_type": "code",
   "execution_count": 7,
   "id": "50dde8bf",
   "metadata": {},
   "outputs": [
    {
     "data": {
      "text/plain": [
       "45012"
      ]
     },
     "execution_count": 7,
     "metadata": {},
     "output_type": "execute_result"
    }
   ],
   "source": [
    "totalPurchases"
   ]
  },
  {
   "cell_type": "code",
   "execution_count": 8,
   "id": "dc288eec",
   "metadata": {},
   "outputs": [
    {
     "name": "stdout",
     "output_type": "stream",
     "text": [
      "P(purchase | 30s):0.29929598652145134\n"
     ]
    }
   ],
   "source": [
    "#P(E|F) - E is purchase, F if you are in 30s.\n",
    "\n",
    "PEF = float(purchases[30])/float(totals[30])\n",
    "print(\"P(purchase | 30s):\" + str(PEF))"
   ]
  },
  {
   "cell_type": "code",
   "execution_count": 9,
   "id": "c79a9bac",
   "metadata": {},
   "outputs": [
    {
     "name": "stdout",
     "output_type": "stream",
     "text": [
      "P(30's):0.16619\n"
     ]
    }
   ],
   "source": [
    "#Probability of being 30\n",
    "\n",
    "PF = float(totals[30])/100000\n",
    "print(\"P(30's):\" + str(PF))"
   ]
  },
  {
   "cell_type": "code",
   "execution_count": 10,
   "id": "bcddf929",
   "metadata": {},
   "outputs": [
    {
     "name": "stdout",
     "output_type": "stream",
     "text": [
      "P(purchase):0.45012\n"
     ]
    }
   ],
   "source": [
    "#Probability of buying something\n",
    "\n",
    "PE = float(totalPurchases)/100000\n",
    "print(\"P(purchase):\" + str(PE))\n"
   ]
  },
  {
   "cell_type": "code",
   "execution_count": 11,
   "id": "81345099",
   "metadata": {},
   "outputs": [
    {
     "name": "stdout",
     "output_type": "stream",
     "text": [
      "P(30's, purchase):0.04974\n"
     ]
    }
   ],
   "source": [
    "print(\"P(30's, purchase):\" + str(float(purchases[30])/ 100000))"
   ]
  },
  {
   "cell_type": "code",
   "execution_count": 12,
   "id": "161e8091",
   "metadata": {},
   "outputs": [
    {
     "name": "stdout",
     "output_type": "stream",
     "text": [
      "P(30's) P(Purchase)0.07480544280000001\n"
     ]
    }
   ],
   "source": [
    "print(\"P(30's) P(Purchase)\" + str(PE * PF))"
   ]
  },
  {
   "cell_type": "code",
   "execution_count": 13,
   "id": "5943dd52",
   "metadata": {},
   "outputs": [
    {
     "name": "stdout",
     "output_type": "stream",
     "text": [
      "0.29929598652145134\n"
     ]
    }
   ],
   "source": [
    "print((purchases[30] / 100000) / PF)"
   ]
  },
  {
   "cell_type": "code",
   "execution_count": 16,
   "id": "dff595e8",
   "metadata": {},
   "outputs": [],
   "source": [
    "#ASSIGNMENT\n",
    "\n",
    "from numpy import random\n",
    "\n",
    "random.seed(0) #for consist results\n",
    "\n",
    "totals = {20:0, 30:0, 40:0, 50:0, 60:0, 70:0}\n",
    "purchases =  {20:0, 30:0, 40:0, 50:0, 60:0, 70:0}\n",
    "totalPurchases = 0\n",
    "\n",
    "for _ in range(100000):\n",
    "    ageDecade = random.choice([20,30,40,50,60,70])\n",
    "    purchaseProbability = 0.4\n",
    "    totals[ageDecade] +=1\n",
    "    if(random.random() < purchaseProbability):\n",
    "        totalPurchases += 1\n",
    "        purchases[ageDecade] +=1"
   ]
  },
  {
   "cell_type": "code",
   "execution_count": 17,
   "id": "ce85f559",
   "metadata": {},
   "outputs": [
    {
     "data": {
      "text/plain": [
       "{20: 16576, 30: 16619, 40: 16632, 50: 16805, 60: 16664, 70: 16704}"
      ]
     },
     "execution_count": 17,
     "metadata": {},
     "output_type": "execute_result"
    }
   ],
   "source": [
    "totals\n"
   ]
  },
  {
   "cell_type": "code",
   "execution_count": 18,
   "id": "73bb8f36",
   "metadata": {},
   "outputs": [
    {
     "data": {
      "text/plain": [
       "{20: 6710, 30: 6627, 40: 6670, 50: 6665, 60: 6638, 70: 6720}"
      ]
     },
     "execution_count": 18,
     "metadata": {},
     "output_type": "execute_result"
    }
   ],
   "source": [
    "purchases\n"
   ]
  },
  {
   "cell_type": "code",
   "execution_count": 19,
   "id": "aa510c9c",
   "metadata": {},
   "outputs": [
    {
     "data": {
      "text/plain": [
       "40030"
      ]
     },
     "execution_count": 19,
     "metadata": {},
     "output_type": "execute_result"
    }
   ],
   "source": [
    "totalPurchases"
   ]
  },
  {
   "cell_type": "code",
   "execution_count": 20,
   "id": "37c5fcb4",
   "metadata": {},
   "outputs": [
    {
     "name": "stdout",
     "output_type": "stream",
     "text": [
      "P(purchase | 30s):0.3987604549010169\n"
     ]
    }
   ],
   "source": [
    "#P(E|F) - E is purchase, F if you are in 30s.\n",
    "\n",
    "PEF = float(purchases[30])/float(totals[30])\n",
    "print(\"P(purchase | 30s):\" + str(PEF))"
   ]
  },
  {
   "cell_type": "code",
   "execution_count": 21,
   "id": "d7d34eec",
   "metadata": {},
   "outputs": [
    {
     "name": "stdout",
     "output_type": "stream",
     "text": [
      "P(purchase):0.4003\n"
     ]
    }
   ],
   "source": [
    "#Probability of buying something\n",
    "\n",
    "PE = float(totalPurchases)/100000\n",
    "print(\"P(purchase):\" + str(PE))"
   ]
  },
  {
   "cell_type": "code",
   "execution_count": null,
   "id": "4920ca15",
   "metadata": {},
   "outputs": [],
   "source": []
  }
 ],
 "metadata": {
  "kernelspec": {
   "display_name": "Python 3 (ipykernel)",
   "language": "python",
   "name": "python3"
  },
  "language_info": {
   "codemirror_mode": {
    "name": "ipython",
    "version": 3
   },
   "file_extension": ".py",
   "mimetype": "text/x-python",
   "name": "python",
   "nbconvert_exporter": "python",
   "pygments_lexer": "ipython3",
   "version": "3.8.10"
  }
 },
 "nbformat": 4,
 "nbformat_minor": 5
}
