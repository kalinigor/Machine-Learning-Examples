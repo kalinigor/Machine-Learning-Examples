{
 "cells": [
  {
   "cell_type": "code",
   "execution_count": null,
   "id": "6e04f089",
   "metadata": {},
   "outputs": [],
   "source": [
    "#Regression\n",
    "\n",
    "X,y = mglearn.datasets.make_wave(n_samples=40) #1 input feature i continous target(response)\n",
    "\n",
    "plt.plot(X,y,'o')\n",
    "plt.ylim(-3,3)\n",
    "plt.xlabel(\"Feature\")\n",
    "plt.ylabel(\"Target\")"
   ]
  }
 ],
 "metadata": {
  "kernelspec": {
   "display_name": "Python 3 (ipykernel)",
   "language": "python",
   "name": "python3"
  },
  "language_info": {
   "codemirror_mode": {
    "name": "ipython",
    "version": 3
   },
   "file_extension": ".py",
   "mimetype": "text/x-python",
   "name": "python",
   "nbconvert_exporter": "python",
   "pygments_lexer": "ipython3",
   "version": "3.8.10"
  }
 },
 "nbformat": 4,
 "nbformat_minor": 5
}
