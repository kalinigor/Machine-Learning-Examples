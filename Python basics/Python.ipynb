{
 "cells": [
  {
   "cell_type": "code",
   "execution_count": 4,
   "id": "70bed19e",
   "metadata": {},
   "outputs": [
    {
     "name": "stdout",
     "output_type": "stream",
     "text": [
      "1\n",
      "is odd\n",
      "2\n",
      "is even\n",
      "3\n",
      "is odd\n",
      "4\n",
      "is even\n",
      "5\n",
      "is odd\n",
      "6\n",
      "is even\n",
      "all done\n"
     ]
    }
   ],
   "source": [
    "listOfNumbers = [1,2,3,4,5,6]\n",
    "\n",
    "for number in listOfNumbers:\n",
    "    print(number)\n",
    "    if(number%2==0):\n",
    "        print(\"is even\")\n",
    "    else:\n",
    "        print(\"is odd\")\n",
    "        \n",
    "print(\"all done\")"
   ]
  },
  {
   "cell_type": "code",
   "execution_count": 5,
   "id": "42e49120",
   "metadata": {},
   "outputs": [
    {
     "name": "stdout",
     "output_type": "stream",
     "text": [
      "[21.15208231 29.70977598 25.09255552 20.34641859 21.78908248 22.99737894\n",
      " 28.51404667 23.19016201 25.92759476 25.05351539]\n"
     ]
    }
   ],
   "source": [
    "import numpy as np\n",
    "\n",
    "A = np.random.normal(25,5,10)\n",
    "print(A)"
   ]
  },
  {
   "cell_type": "code",
   "execution_count": 6,
   "id": "017b6a47",
   "metadata": {},
   "outputs": [
    {
     "name": "stdout",
     "output_type": "stream",
     "text": [
      "6\n"
     ]
    }
   ],
   "source": [
    "x = [1,2,3,4,5,6]\n",
    "print(len(x))"
   ]
  },
  {
   "cell_type": "code",
   "execution_count": 8,
   "id": "41a010ec",
   "metadata": {},
   "outputs": [
    {
     "data": {
      "text/plain": [
       "[1, 2, 3]"
      ]
     },
     "execution_count": 8,
     "metadata": {},
     "output_type": "execute_result"
    }
   ],
   "source": [
    "x[:3]"
   ]
  },
  {
   "cell_type": "code",
   "execution_count": 10,
   "id": "ffa9147f",
   "metadata": {},
   "outputs": [
    {
     "data": {
      "text/plain": [
       "[3, 4]"
      ]
     },
     "execution_count": 10,
     "metadata": {},
     "output_type": "execute_result"
    }
   ],
   "source": [
    "x[2:4]"
   ]
  },
  {
   "cell_type": "code",
   "execution_count": 11,
   "id": "269fcbfa",
   "metadata": {},
   "outputs": [
    {
     "data": {
      "text/plain": [
       "[4, 5, 6]"
      ]
     },
     "execution_count": 11,
     "metadata": {},
     "output_type": "execute_result"
    }
   ],
   "source": [
    "x[3:]"
   ]
  },
  {
   "cell_type": "code",
   "execution_count": 12,
   "id": "81698bdb",
   "metadata": {},
   "outputs": [
    {
     "name": "stdout",
     "output_type": "stream",
     "text": [
      "[1, 2, 3, 4, 5, 6, 7, 8]\n"
     ]
    }
   ],
   "source": [
    "x.extend([7,8])\n",
    "print(x)"
   ]
  },
  {
   "cell_type": "code",
   "execution_count": 13,
   "id": "c6b67d2b",
   "metadata": {},
   "outputs": [
    {
     "name": "stdout",
     "output_type": "stream",
     "text": [
      "[1, 2, 3, 4, 5, 6, 7, 8, 9]\n"
     ]
    }
   ],
   "source": [
    "x.append(9)\n",
    "print(x)"
   ]
  },
  {
   "cell_type": "code",
   "execution_count": 14,
   "id": "29126caa",
   "metadata": {},
   "outputs": [
    {
     "data": {
      "text/plain": [
       "[[1, 2, 3, 4, 5, 6, 7, 8, 9], [10, 11, 12]]"
      ]
     },
     "execution_count": 14,
     "metadata": {},
     "output_type": "execute_result"
    }
   ],
   "source": [
    "y = [10,11,12]\n",
    "listOfLists = [x,y]\n",
    "listOfLists"
   ]
  },
  {
   "cell_type": "code",
   "execution_count": 17,
   "id": "13d6776a",
   "metadata": {},
   "outputs": [
    {
     "name": "stdout",
     "output_type": "stream",
     "text": [
      "[1, 2, 3]\n"
     ]
    }
   ],
   "source": [
    "z = [3,1,2]\n",
    "z.sort()\n",
    "print(z)"
   ]
  },
  {
   "cell_type": "code",
   "execution_count": 16,
   "id": "ae15873b",
   "metadata": {},
   "outputs": [
    {
     "name": "stdout",
     "output_type": "stream",
     "text": [
      "[3, 2, 1]\n"
     ]
    }
   ],
   "source": [
    "z.sort(reverse=True)\n",
    "print(z)"
   ]
  },
  {
   "cell_type": "markdown",
   "id": "8f6bce04",
   "metadata": {},
   "source": [
    "# Tuples (immutable lists)"
   ]
  },
  {
   "cell_type": "code",
   "execution_count": 18,
   "id": "d143ebff",
   "metadata": {},
   "outputs": [
    {
     "data": {
      "text/plain": [
       "3"
      ]
     },
     "execution_count": 18,
     "metadata": {},
     "output_type": "execute_result"
    }
   ],
   "source": [
    "x = (1,2,3)\n",
    "len(x)"
   ]
  },
  {
   "cell_type": "code",
   "execution_count": 19,
   "id": "c838f270",
   "metadata": {},
   "outputs": [
    {
     "data": {
      "text/plain": [
       "6"
      ]
     },
     "execution_count": 19,
     "metadata": {},
     "output_type": "execute_result"
    }
   ],
   "source": [
    "y = (4,5,6)\n",
    "y[2]"
   ]
  },
  {
   "cell_type": "code",
   "execution_count": 20,
   "id": "62c7faab",
   "metadata": {},
   "outputs": [
    {
     "data": {
      "text/plain": [
       "[(1, 2, 3), (4, 5, 6)]"
      ]
     },
     "execution_count": 20,
     "metadata": {},
     "output_type": "execute_result"
    }
   ],
   "source": [
    "listOfTuples = [x,y]\n",
    "listOfTuples"
   ]
  },
  {
   "cell_type": "code",
   "execution_count": 22,
   "id": "82f1b5aa",
   "metadata": {},
   "outputs": [
    {
     "name": "stdout",
     "output_type": "stream",
     "text": [
      "32\n",
      "12000\n"
     ]
    }
   ],
   "source": [
    "(age,income) = \"32,12000\".split(',')\n",
    "print(age)\n",
    "print(income)"
   ]
  },
  {
   "cell_type": "markdown",
   "id": "94971d9c",
   "metadata": {},
   "source": [
    "# Dictionaries"
   ]
  },
  {
   "cell_type": "code",
   "execution_count": 23,
   "id": "19c2016a",
   "metadata": {},
   "outputs": [
    {
     "name": "stdout",
     "output_type": "stream",
     "text": [
      "Kirk\n"
     ]
    }
   ],
   "source": [
    "captains = {}\n",
    "\n",
    "captains[\"Enterprise\"] = \"Kirk\"\n",
    "captains[\"Enterprise D\"] = \"Picard\"\n",
    "captains[\"Deep space nine\"] = \"Sisko\"\n",
    "captains[\"Voyager\"] = \"Janeway\"\n",
    "\n",
    "print(captains[\"Enterprise\"])"
   ]
  },
  {
   "cell_type": "code",
   "execution_count": 24,
   "id": "c7583d72",
   "metadata": {},
   "outputs": [
    {
     "name": "stdout",
     "output_type": "stream",
     "text": [
      "None\n"
     ]
    }
   ],
   "source": [
    "print(captains.get(\"NX-01\"))"
   ]
  },
  {
   "cell_type": "code",
   "execution_count": 25,
   "id": "1d92ebb5",
   "metadata": {},
   "outputs": [
    {
     "name": "stdout",
     "output_type": "stream",
     "text": [
      "Enterprise: Kirk\n",
      "Enterprise D: Picard\n",
      "Deep space nine: Sisko\n",
      "Voyager: Janeway\n"
     ]
    }
   ],
   "source": [
    "for ship in captains:\n",
    "    print(ship + \": \" + captains[ship])"
   ]
  },
  {
   "cell_type": "markdown",
   "id": "1f81878e",
   "metadata": {},
   "source": [
    "# Functions"
   ]
  },
  {
   "cell_type": "code",
   "execution_count": 26,
   "id": "9488f7b4",
   "metadata": {},
   "outputs": [
    {
     "name": "stdout",
     "output_type": "stream",
     "text": [
      "4\n"
     ]
    }
   ],
   "source": [
    "def SquareIt(x):\n",
    "    return x*x\n",
    "\n",
    "print(SquareIt(2))"
   ]
  },
  {
   "cell_type": "code",
   "execution_count": 29,
   "id": "01ee1662",
   "metadata": {},
   "outputs": [
    {
     "name": "stdout",
     "output_type": "stream",
     "text": [
      "9\n"
     ]
    }
   ],
   "source": [
    "def DoSomething(f,x):\n",
    "    return f(x)\n",
    "\n",
    "print(DoSomething(SquareIt, 3))"
   ]
  },
  {
   "cell_type": "code",
   "execution_count": 30,
   "id": "6ff8bb7c",
   "metadata": {},
   "outputs": [
    {
     "name": "stdout",
     "output_type": "stream",
     "text": [
      "27\n"
     ]
    }
   ],
   "source": [
    "#lambda functions\n",
    "\n",
    "print(DoSomething(lambda x: x*x*x, 3))"
   ]
  },
  {
   "cell_type": "markdown",
   "id": "3d312038",
   "metadata": {},
   "source": [
    "# Boolean Expressions"
   ]
  },
  {
   "cell_type": "code",
   "execution_count": 31,
   "id": "d31fb05b",
   "metadata": {},
   "outputs": [
    {
     "name": "stdout",
     "output_type": "stream",
     "text": [
      "False\n"
     ]
    }
   ],
   "source": [
    "print(1==3)"
   ]
  },
  {
   "cell_type": "code",
   "execution_count": 32,
   "id": "f2e9412f",
   "metadata": {},
   "outputs": [
    {
     "name": "stdout",
     "output_type": "stream",
     "text": [
      "True\n"
     ]
    }
   ],
   "source": [
    "print(True or False)"
   ]
  },
  {
   "cell_type": "code",
   "execution_count": 33,
   "id": "7cf7424d",
   "metadata": {},
   "outputs": [
    {
     "name": "stdout",
     "output_type": "stream",
     "text": [
      "False\n"
     ]
    },
    {
     "name": "stderr",
     "output_type": "stream",
     "text": [
      "<>:1: SyntaxWarning: \"is\" with a literal. Did you mean \"==\"?\n",
      "<>:1: SyntaxWarning: \"is\" with a literal. Did you mean \"==\"?\n",
      "<ipython-input-33-4f5eef3bedd6>:1: SyntaxWarning: \"is\" with a literal. Did you mean \"==\"?\n",
      "  print(1 is 3)\n"
     ]
    }
   ],
   "source": [
    "print(1 is 3)"
   ]
  },
  {
   "cell_type": "code",
   "execution_count": 34,
   "id": "c674c6b9",
   "metadata": {},
   "outputs": [
    {
     "name": "stdout",
     "output_type": "stream",
     "text": [
      "All is well with the world\n"
     ]
    },
    {
     "name": "stderr",
     "output_type": "stream",
     "text": [
      "<>:1: SyntaxWarning: \"is\" with a literal. Did you mean \"==\"?\n",
      "<>:1: SyntaxWarning: \"is\" with a literal. Did you mean \"==\"?\n",
      "<ipython-input-34-ae6c5ef3a8e1>:1: SyntaxWarning: \"is\" with a literal. Did you mean \"==\"?\n",
      "  if 1 is 3:\n"
     ]
    }
   ],
   "source": [
    "if 1 is 3:\n",
    "    print(\"How did that happen\")\n",
    "elif 1 > 3:\n",
    "    print(\"Yikes\")\n",
    "else:\n",
    "    print(\"All is well with the world\")"
   ]
  },
  {
   "cell_type": "markdown",
   "id": "e56f4c75",
   "metadata": {},
   "source": [
    "# Looping"
   ]
  },
  {
   "cell_type": "code",
   "execution_count": 35,
   "id": "d7939fd7",
   "metadata": {},
   "outputs": [
    {
     "name": "stdout",
     "output_type": "stream",
     "text": [
      "0\n",
      "1\n",
      "2\n",
      "3\n",
      "4\n",
      "5\n",
      "6\n",
      "7\n",
      "8\n",
      "9\n"
     ]
    }
   ],
   "source": [
    "for x in range(10):\n",
    "    print(x)"
   ]
  },
  {
   "cell_type": "code",
   "execution_count": 38,
   "id": "be806c41",
   "metadata": {},
   "outputs": [
    {
     "name": "stdout",
     "output_type": "stream",
     "text": [
      "0\n",
      "2\n",
      "3\n",
      "4\n",
      "5\n"
     ]
    }
   ],
   "source": [
    "for x in range(10):\n",
    "    if(x == 1):\n",
    "        continue\n",
    "    if(x > 5):\n",
    "        break\n",
    "    print(x)"
   ]
  },
  {
   "cell_type": "code",
   "execution_count": 39,
   "id": "facafd0c",
   "metadata": {},
   "outputs": [
    {
     "name": "stdout",
     "output_type": "stream",
     "text": [
      "0\n",
      "1\n",
      "2\n",
      "3\n",
      "4\n",
      "5\n",
      "6\n",
      "7\n",
      "8\n",
      "9\n"
     ]
    }
   ],
   "source": [
    "x = 0\n",
    "while(x<10):\n",
    "    print(x)\n",
    "    x+=1"
   ]
  },
  {
   "cell_type": "code",
   "execution_count": 41,
   "id": "cb1febf5",
   "metadata": {},
   "outputs": [
    {
     "name": "stdout",
     "output_type": "stream",
     "text": [
      "0\n",
      "2\n",
      "8\n"
     ]
    }
   ],
   "source": [
    "myList = [0,1,2,5,8,3]\n",
    "\n",
    "for number in myList:\n",
    "    if(number%2 == 0):\n",
    "        print(number)"
   ]
  },
  {
   "cell_type": "code",
   "execution_count": null,
   "id": "7dbeaf75",
   "metadata": {},
   "outputs": [],
   "source": []
  }
 ],
 "metadata": {
  "kernelspec": {
   "display_name": "Python 3",
   "language": "python",
   "name": "python3"
  },
  "language_info": {
   "codemirror_mode": {
    "name": "ipython",
    "version": 3
   },
   "file_extension": ".py",
   "mimetype": "text/x-python",
   "name": "python",
   "nbconvert_exporter": "python",
   "pygments_lexer": "ipython3",
   "version": "3.8.8"
  }
 },
 "nbformat": 4,
 "nbformat_minor": 5
}
